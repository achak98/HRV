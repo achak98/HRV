{
 "cells": [
  {
   "cell_type": "code",
   "execution_count": 21,
   "metadata": {},
   "outputs": [
    {
     "output_type": "stream",
     "name": "stdout",
     "text": "['sepal length (cm)', 'sepal width (cm)', 'petal length (cm)', 'petal width (cm)'] ['setosa' 'versicolor' 'virginica']\n"
    }
   ],
   "source": [
    "import pandas as pd \n",
    "from sklearn.datasets import load_iris\n",
    "\n",
    "data = load_iris()\n",
    "print(data.feature_names, data.target_names)"
   ]
  },
  {
   "cell_type": "markdown",
   "metadata": {},
   "source": [
    "Splitting data to seperate array to check for varaiance between them in each class"
   ]
  },
  {
   "cell_type": "code",
   "execution_count": 22,
   "metadata": {},
   "outputs": [
    {
     "output_type": "stream",
     "name": "stdout",
     "text": "sepal leng:\n setosa:50, versicolor:50, virginica:50\n"
    }
   ],
   "source": [
    "sl_set = [x[0] for i, x in enumerate(data.data) if data.target[i] == 0]\n",
    "sl_ver = [x[0] for i, x in enumerate(data.data) if data.target[i] == 1]\n",
    "sl_vir = [x[0] for i, x in enumerate(data.data) if data.target[i] == 2]\n",
    "\n",
    "sw_set = [x[1] for i, x in enumerate(data.data) if data.target[i] == 0]\n",
    "sw_ver = [x[1] for i, x in enumerate(data.data) if data.target[i] == 1]\n",
    "sw_vir = [x[1] for i, x in enumerate(data.data) if data.target[i] == 2]\n",
    "\n",
    "pl_set = [x[2] for i, x in enumerate(data.data) if data.target[i] == 0]\n",
    "pl_ver = [x[2] for i, x in enumerate(data.data) if data.target[i] == 1]\n",
    "pl_vir = [x[2] for i, x in enumerate(data.data) if data.target[i] == 2]\n",
    "\n",
    "pw_set = [x[3] for i, x in enumerate(data.data) if data.target[i] == 0]\n",
    "pw_ver = [x[3] for i, x in enumerate(data.data) if data.target[i] == 1]\n",
    "pw_vir = [x[3] for i, x in enumerate(data.data) if data.target[i] == 2]\n",
    "\n",
    "print(f\"sepal leng:\\n setosa:{len(sl_set)}, versicolor:{len(sl_ver)}, virginica:{len(sl_vir)}\")"
   ]
  },
  {
   "cell_type": "markdown",
   "metadata": {},
   "source": [
    "## Finding feature with max intra class var"
   ]
  },
  {
   "cell_type": "code",
   "execution_count": 28,
   "metadata": {},
   "outputs": [
    {
     "output_type": "stream",
     "name": "stdout",
     "text": "average variance in sepal length:0.25970800000000005\naverage variance in sepal width:0.11308\naverage variance in petal length:0.181484\naverage variance in petal width:0.041044\n"
    }
   ],
   "source": [
    "import numpy as np\n",
    "print(f\"average variance in sepal length:{(np.var(sl_set)+np.var(sl_ver)+np.var(sl_vir))/3}\")\n",
    "print(f\"average variance in sepal width:{(np.var(sw_set)+np.var(sw_ver)+np.var(sw_vir))/3}\")\n",
    "print(f\"average variance in petal length:{(np.var(pl_set)+np.var(pl_ver)+np.var(pl_vir))/3}\")\n",
    "print(f\"average variance in petal width:{(np.var(pw_set)+np.var(pw_ver)+np.var(pw_vir))/3}\")"
   ]
  },
  {
   "cell_type": "markdown",
   "metadata": {},
   "source": [
    "## CKT Distance Idea"
   ]
  },
  {
   "cell_type": "code",
   "execution_count": null,
   "metadata": {},
   "outputs": [],
   "source": [
    "def calcDistance(input_arr, data_row):\n",
    "    mean_factor = float(len(input_arr)**(-1))\n",
    "    sum = 0.0\n",
    "    for i in range(len(input_arr)):\n",
    "        x = input_arr[i]\n",
    "        y = data_row[i]\n",
    "        sum += float((abs(x**3-y**3)**(1/2))/(x+y))\n",
    "    Distance =  float(mean_factor * sum)\n",
    "    return Distance\n",
    "\n",
    "def CKTD(csv_file, input_arr):\n",
    "    distance_col = []\n",
    "    data = []\n",
    "    with open(csv_file, 'r') as csvfile:\n",
    "        data = list(csv.reader(csvfile))\n",
    "    data[0].append(\"CKT_Distance\")\n",
    "    header = next(data)\n",
    "    for i in range(len(input_arr)):\n",
    "        data[i+1].append(calcDistance(input_arr, data[i+1]))\n",
    "    dict_data_list = [dict(zip(header, map(float, row))) for row in data]\n",
    "    return dict_data_list\n",
    "\n",
    "\n"
   ]
  }
 ],
 "metadata": {
  "language_info": {
   "codemirror_mode": {
    "name": "ipython",
    "version": 3
   },
   "file_extension": ".py",
   "mimetype": "text/x-python",
   "name": "python",
   "nbconvert_exporter": "python",
   "pygments_lexer": "ipython3",
   "version": "3.6.6-final"
  },
  "orig_nbformat": 2,
  "kernelspec": {
   "name": "python36664bit4adcffe671cd4f4390e2a5f03aa1fae6",
   "display_name": "Python 3.6.6 64-bit"
  }
 },
 "nbformat": 4,
 "nbformat_minor": 2
}